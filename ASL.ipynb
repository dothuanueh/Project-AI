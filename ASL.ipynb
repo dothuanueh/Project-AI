{
  "nbformat": 4,
  "nbformat_minor": 0,
  "metadata": {
    "colab": {
      "provenance": [],
      "gpuType": "T4",
      "mount_file_id": "1ly5SmxWajBdcE6vF0AAPqas56lxGv8uG",
      "authorship_tag": "ABX9TyMEoQWBYIMNye3f6MGQZ7hS",
      "include_colab_link": true
    },
    "kernelspec": {
      "name": "python3",
      "display_name": "Python 3"
    },
    "language_info": {
      "name": "python"
    },
    "accelerator": "GPU"
  },
  "cells": [
    {
      "cell_type": "markdown",
      "metadata": {
        "id": "view-in-github",
        "colab_type": "text"
      },
      "source": [
        "<a href=\"https://colab.research.google.com/github/dothuanueh/Project-AI/blob/main/ASL.ipynb\" target=\"_parent\"><img src=\"https://colab.research.google.com/assets/colab-badge.svg\" alt=\"Open In Colab\"/></a>"
      ]
    },
    {
      "cell_type": "code",
      "execution_count": 1,
      "metadata": {
        "id": "fxOEhC3uivmK"
      },
      "outputs": [],
      "source": [
        "import numpy as np\n",
        "import pandas as pd\n",
        "import cv2\n",
        "import matplotlib.pyplot as plt\n",
        "from keras import layers\n",
        "from keras.preprocessing.image import ImageDataGenerator,load_img\n",
        "from keras.models import Sequential\n",
        "from keras.layers import Conv2D, MaxPooling2D\n",
        "from keras.layers import Activation,Dropout,Flatten,Dense\n",
        "from keras.optimizers import Adam\n",
        "import tensorflow as tf"
      ]
    },
    {
      "cell_type": "code",
      "source": [
        "from google.colab import drive\n",
        "drive.mount('/content/drive')"
      ],
      "metadata": {
        "colab": {
          "base_uri": "https://localhost:8080/"
        },
        "id": "ysXH6d5UjttZ",
        "outputId": "550945fd-83a0-42cf-ddc7-5d13715010e7"
      },
      "execution_count": 2,
      "outputs": [
        {
          "output_type": "stream",
          "name": "stdout",
          "text": [
            "Drive already mounted at /content/drive; to attempt to forcibly remount, call drive.mount(\"/content/drive\", force_remount=True).\n"
          ]
        }
      ]
    },
    {
      "cell_type": "code",
      "source": [
        "url=\"/content/drive/MyDrive/data\"\n",
        "img_size=300"
      ],
      "metadata": {
        "id": "mnru5dnap3Wj"
      },
      "execution_count": 3,
      "outputs": []
    },
    {
      "cell_type": "code",
      "source": [
        "train_datagen=ImageDataGenerator(rescale=1./255, shear_range=0.2,zoom_range=0.2, horizontal_flip=True, validation_split=0.2)\n",
        "test_datagen=ImageDataGenerator(rescale=1./255,validation_split=0.2)\n",
        "#Create datasets\n",
        "train_datagen=train_datagen.flow_from_directory(url, target_size=(img_size,img_size),subset='training',batch_size=64)\n",
        "test_datagen=test_datagen.flow_from_directory(url, target_size=(img_size,img_size),subset='training',batch_size=64)"
      ],
      "metadata": {
        "colab": {
          "base_uri": "https://localhost:8080/"
        },
        "id": "wwiZKlV9p_EY",
        "outputId": "b0abe244-85b2-4427-9457-ef677494fb27"
      },
      "execution_count": 4,
      "outputs": [
        {
          "output_type": "stream",
          "name": "stdout",
          "text": [
            "Found 2814 images belonging to 26 classes.\n",
            "Found 2814 images belonging to 26 classes.\n"
          ]
        }
      ]
    },
    {
      "cell_type": "code",
      "source": [
        "model = tf.keras.Sequential([\n",
        "        tf.keras.layers.Conv2D(16, (3,3), activation ='relu', input_shape=(img_size,img_size,3)),\n",
        "        tf.keras.layers.Conv2D(16, (3,3), activation ='relu'),\n",
        "        tf.keras.layers.Conv2D(16, (3,3), activation ='relu'),\n",
        "        tf.keras.layers.MaxPool2D((2,2)),\n",
        "        tf.keras.layers.Conv2D(32, (3,3), activation ='relu'),\n",
        "        tf.keras.layers.Conv2D(32, (3,3), activation ='relu'),\n",
        "        tf.keras.layers.Conv2D(32, (3,3), activation ='relu'),\n",
        "        tf.keras.layers.MaxPool2D((2,2)),\n",
        "        tf.keras.layers.Conv2D(64, (3,3), activation ='relu'),\n",
        "        tf.keras.layers.Conv2D(64, (3,3), activation ='relu'),\n",
        "        tf.keras.layers.Conv2D(64, (3,3), activation ='relu'),\n",
        "        tf.keras.layers.Flatten(),\n",
        "        tf.keras.layers.Dense(128, activation='relu'),\n",
        "        tf.keras.layers.Dense(26, activation='softmax')\n",
        "])\n"
      ],
      "metadata": {
        "id": "qnyia5vmqHRH"
      },
      "execution_count": 5,
      "outputs": []
    },
    {
      "cell_type": "code",
      "source": [
        "from keras.optimizers import Adam\n",
        "model.compile(optimizer=Adam(),loss='categorical_crossentropy',metrics='accuracy')\n",
        "model_history=model.fit(train_datagen,epochs=20,validation_data=(test_datagen),verbose=2)"
      ],
      "metadata": {
        "colab": {
          "base_uri": "https://localhost:8080/"
        },
        "id": "kVkE7b9er4vC",
        "outputId": "61ac8e58-2643-4f3c-d94c-bc1f8638231c"
      },
      "execution_count": 6,
      "outputs": [
        {
          "output_type": "stream",
          "name": "stdout",
          "text": [
            "Epoch 1/20\n",
            "44/44 - 1884s - loss: 2.6220 - accuracy: 0.2697 - val_loss: 0.3005 - val_accuracy: 0.9502 - 1884s/epoch - 43s/step\n",
            "Epoch 2/20\n",
            "44/44 - 98s - loss: 0.2758 - accuracy: 0.9261 - val_loss: 0.0450 - val_accuracy: 0.9840 - 98s/epoch - 2s/step\n",
            "Epoch 3/20\n",
            "44/44 - 99s - loss: 0.0631 - accuracy: 0.9822 - val_loss: 0.0030 - val_accuracy: 1.0000 - 99s/epoch - 2s/step\n",
            "Epoch 4/20\n",
            "44/44 - 98s - loss: 0.0243 - accuracy: 0.9943 - val_loss: 0.0076 - val_accuracy: 0.9968 - 98s/epoch - 2s/step\n",
            "Epoch 5/20\n",
            "44/44 - 95s - loss: 0.0374 - accuracy: 0.9897 - val_loss: 0.0020 - val_accuracy: 0.9996 - 95s/epoch - 2s/step\n",
            "Epoch 6/20\n",
            "44/44 - 99s - loss: 0.0315 - accuracy: 0.9918 - val_loss: 0.0127 - val_accuracy: 0.9957 - 99s/epoch - 2s/step\n",
            "Epoch 7/20\n",
            "44/44 - 99s - loss: 0.0218 - accuracy: 0.9936 - val_loss: 4.5210e-04 - val_accuracy: 0.9996 - 99s/epoch - 2s/step\n",
            "Epoch 8/20\n",
            "44/44 - 98s - loss: 0.0336 - accuracy: 0.9904 - val_loss: 3.5773e-04 - val_accuracy: 1.0000 - 98s/epoch - 2s/step\n",
            "Epoch 9/20\n",
            "44/44 - 97s - loss: 0.0309 - accuracy: 0.9911 - val_loss: 0.0017 - val_accuracy: 1.0000 - 97s/epoch - 2s/step\n",
            "Epoch 10/20\n",
            "44/44 - 98s - loss: 0.0163 - accuracy: 0.9964 - val_loss: 0.0010 - val_accuracy: 1.0000 - 98s/epoch - 2s/step\n",
            "Epoch 11/20\n",
            "44/44 - 100s - loss: 0.0055 - accuracy: 0.9989 - val_loss: 1.0813e-04 - val_accuracy: 1.0000 - 100s/epoch - 2s/step\n",
            "Epoch 12/20\n",
            "44/44 - 98s - loss: 0.0012 - accuracy: 0.9996 - val_loss: 2.8754e-06 - val_accuracy: 1.0000 - 98s/epoch - 2s/step\n",
            "Epoch 13/20\n",
            "44/44 - 99s - loss: 0.0212 - accuracy: 0.9940 - val_loss: 1.3772e-04 - val_accuracy: 1.0000 - 99s/epoch - 2s/step\n",
            "Epoch 14/20\n",
            "44/44 - 97s - loss: 0.0141 - accuracy: 0.9954 - val_loss: 0.0042 - val_accuracy: 0.9989 - 97s/epoch - 2s/step\n",
            "Epoch 15/20\n",
            "44/44 - 96s - loss: 0.0194 - accuracy: 0.9957 - val_loss: 6.2679e-05 - val_accuracy: 1.0000 - 96s/epoch - 2s/step\n",
            "Epoch 16/20\n",
            "44/44 - 97s - loss: 0.0093 - accuracy: 0.9989 - val_loss: 6.5357e-06 - val_accuracy: 1.0000 - 97s/epoch - 2s/step\n",
            "Epoch 17/20\n",
            "44/44 - 100s - loss: 0.0104 - accuracy: 0.9972 - val_loss: 0.0016 - val_accuracy: 1.0000 - 100s/epoch - 2s/step\n",
            "Epoch 18/20\n",
            "44/44 - 94s - loss: 0.0089 - accuracy: 0.9972 - val_loss: 2.9511e-04 - val_accuracy: 1.0000 - 94s/epoch - 2s/step\n",
            "Epoch 19/20\n",
            "44/44 - 95s - loss: 0.0071 - accuracy: 0.9975 - val_loss: 5.9874e-04 - val_accuracy: 1.0000 - 95s/epoch - 2s/step\n",
            "Epoch 20/20\n",
            "44/44 - 93s - loss: 0.0103 - accuracy: 0.9975 - val_loss: 5.8453e-05 - val_accuracy: 1.0000 - 93s/epoch - 2s/step\n"
          ]
        }
      ]
    },
    {
      "cell_type": "code",
      "source": [
        "plt.plot(model_history.history['accuracy'],label='Adam')\n",
        "plt.title('Accuracy vs Epoch')\n",
        "plt.xlabel('Epoch')\n",
        "plt.ylabel('Accuracy')\n",
        "plt.legend()\n",
        "plt.show()\n",
        "\n",
        "plt.plot(model_history.history['loss'],label='Adam')\n",
        "plt.title('Loss vs Epoch')\n",
        "plt.xlabel('Epoch')\n",
        "plt.ylabel('Loss')\n",
        "plt.legend()\n",
        "plt.show()"
      ],
      "metadata": {
        "colab": {
          "base_uri": "https://localhost:8080/",
          "height": 927
        },
        "id": "3bqGI3lf92R1",
        "outputId": "116bf7d0-2d8f-47c6-9fbf-5b584a21ebe7"
      },
      "execution_count": 7,
      "outputs": [
        {
          "output_type": "display_data",
          "data": {
            "text/plain": [
              "<Figure size 640x480 with 1 Axes>"
            ],
            "image/png": "[encoded data removed]"
          },
          "metadata": {}
        },
        {
          "output_type": "display_data",
          "data": {
            "text/plain": [
              "<Figure size 640x480 with 1 Axes>"
            ],
            "image/png": "[encoded data removed]"
          },
          "metadata": {}
        }
      ]
    },
    {
      "cell_type": "code",
      "source": [
        "model_json=model.to_json()\n",
        "with open('json_ASL.json','w') as json_file:\n",
        "  json_file.write(model_json)\n",
        "model.save('model_ASL.h5')"
      ],
      "metadata": {
        "id": "4IOXhc4H9_D3",
        "colab": {
          "base_uri": "https://localhost:8080/"
        },
        "outputId": "79c5fed8-e1c7-499d-fa51-e3e515db5d04"
      },
      "execution_count": 8,
      "outputs": [
        {
          "output_type": "stream",
          "name": "stderr",
          "text": [
            "/usr/local/lib/python3.10/dist-packages/keras/src/engine/training.py:3103: UserWarning: You are saving your model as an HDF5 file via `model.save()`. This file format is considered legacy. We recommend using instead the native Keras format, e.g. `model.save('my_model.keras')`.\n",
            "  saving_api.save_model(\n"
          ]
        }
      ]
    },
    {
      "cell_type": "code",
      "source": [
        "train_datagen.class_indices\n",
        "from keras.models import load_model\n",
        "from keras.preprocessing import image\n",
        "from keras.utils import load_img,img_to_array\n",
        "list=['A','B','C','D','E','F','G','H','I','J','K','L','M','N','O','P','Q','R','S','T','U','V','W','X','Y','Z']"
      ],
      "metadata": {
        "id": "ybWsTmHL-WcT"
      },
      "execution_count": 9,
      "outputs": []
    },
    {
      "cell_type": "code",
      "source": [
        "test_image=image.load_img('/content/F.jpg',target_size=(48,48))\n",
        "plt.imshow(test_image)\n",
        "test_image=image.img_to_array(test_image)\n",
        "test_image=np.expand_dims(test_image,axis=0)\n",
        "model=load_model('/content/model_ASL.h5')\n",
        "result=model.predict(test_image)\n",
        "print(result)\n",
        "for i in range(len(result[0])):\n",
        "  if (result[0][i]==1):\n",
        "    print(list[i])\n",
        "    break"
      ],
      "metadata": {
        "colab": {
          "base_uri": "https://localhost:8080/",
          "height": 332
        },
        "id": "zuIXfAkQ-Z2f",
        "outputId": "88773d7b-8d6b-4230-cac0-1cfbbbc47459"
      },
      "execution_count": 10,
      "outputs": [
        {
          "output_type": "error",
          "ename": "FileNotFoundError",
          "evalue": "[Errno 2] No such file or directory: '/content/F.jpg'",
          "traceback": [
            "\u001b[0;31m---------------------------------------------------------------------------\u001b[0m",
            "\u001b[0;31mFileNotFoundError\u001b[0m                         Traceback (most recent call last)",
            "\u001b[0;32m<ipython-input-10-5c25b6f4440f>\u001b[0m in \u001b[0;36m<cell line: 1>\u001b[0;34m()\u001b[0m\n\u001b[0;32m----> 1\u001b[0;31m \u001b[0mtest_image\u001b[0m\u001b[0;34m=\u001b[0m\u001b[0mimage\u001b[0m\u001b[0;34m.\u001b[0m\u001b[0mload_img\u001b[0m\u001b[0;34m(\u001b[0m\u001b[0;34m'/content/F.jpg'\u001b[0m\u001b[0;34m,\u001b[0m\u001b[0mtarget_size\u001b[0m\u001b[0;34m=\u001b[0m\u001b[0;34m(\u001b[0m\u001b[0;36m48\u001b[0m\u001b[0;34m,\u001b[0m\u001b[0;36m48\u001b[0m\u001b[0;34m)\u001b[0m\u001b[0;34m)\u001b[0m\u001b[0;34m\u001b[0m\u001b[0;34m\u001b[0m\u001b[0m\n\u001b[0m\u001b[1;32m      2\u001b[0m \u001b[0mplt\u001b[0m\u001b[0;34m.\u001b[0m\u001b[0mimshow\u001b[0m\u001b[0;34m(\u001b[0m\u001b[0mtest_image\u001b[0m\u001b[0;34m)\u001b[0m\u001b[0;34m\u001b[0m\u001b[0;34m\u001b[0m\u001b[0m\n\u001b[1;32m      3\u001b[0m \u001b[0mtest_image\u001b[0m\u001b[0;34m=\u001b[0m\u001b[0mimage\u001b[0m\u001b[0;34m.\u001b[0m\u001b[0mimg_to_array\u001b[0m\u001b[0;34m(\u001b[0m\u001b[0mtest_image\u001b[0m\u001b[0;34m)\u001b[0m\u001b[0;34m\u001b[0m\u001b[0;34m\u001b[0m\u001b[0m\n\u001b[1;32m      4\u001b[0m \u001b[0mtest_image\u001b[0m\u001b[0;34m=\u001b[0m\u001b[0mnp\u001b[0m\u001b[0;34m.\u001b[0m\u001b[0mexpand_dims\u001b[0m\u001b[0;34m(\u001b[0m\u001b[0mtest_image\u001b[0m\u001b[0;34m,\u001b[0m\u001b[0maxis\u001b[0m\u001b[0;34m=\u001b[0m\u001b[0;36m0\u001b[0m\u001b[0;34m)\u001b[0m\u001b[0;34m\u001b[0m\u001b[0;34m\u001b[0m\u001b[0m\n\u001b[1;32m      5\u001b[0m \u001b[0mmodel\u001b[0m\u001b[0;34m=\u001b[0m\u001b[0mload_model\u001b[0m\u001b[0;34m(\u001b[0m\u001b[0;34m'/content/model_ASL.h5'\u001b[0m\u001b[0;34m)\u001b[0m\u001b[0;34m\u001b[0m\u001b[0;34m\u001b[0m\u001b[0m\n",
            "\u001b[0;32m/usr/local/lib/python3.10/dist-packages/keras/src/utils/image_utils.py\u001b[0m in \u001b[0;36mload_img\u001b[0;34m(path, grayscale, color_mode, target_size, interpolation, keep_aspect_ratio)\u001b[0m\n\u001b[1;32m    420\u001b[0m         \u001b[0;32mif\u001b[0m \u001b[0misinstance\u001b[0m\u001b[0;34m(\u001b[0m\u001b[0mpath\u001b[0m\u001b[0;34m,\u001b[0m \u001b[0mpathlib\u001b[0m\u001b[0;34m.\u001b[0m\u001b[0mPath\u001b[0m\u001b[0;34m)\u001b[0m\u001b[0;34m:\u001b[0m\u001b[0;34m\u001b[0m\u001b[0;34m\u001b[0m\u001b[0m\n\u001b[1;32m    421\u001b[0m             \u001b[0mpath\u001b[0m \u001b[0;34m=\u001b[0m \u001b[0mstr\u001b[0m\u001b[0;34m(\u001b[0m\u001b[0mpath\u001b[0m\u001b[0;34m.\u001b[0m\u001b[0mresolve\u001b[0m\u001b[0;34m(\u001b[0m\u001b[0;34m)\u001b[0m\u001b[0;34m)\u001b[0m\u001b[0;34m\u001b[0m\u001b[0;34m\u001b[0m\u001b[0m\n\u001b[0;32m--> 422\u001b[0;31m         \u001b[0;32mwith\u001b[0m \u001b[0mopen\u001b[0m\u001b[0;34m(\u001b[0m\u001b[0mpath\u001b[0m\u001b[0;34m,\u001b[0m \u001b[0;34m\"rb\"\u001b[0m\u001b[0;34m)\u001b[0m \u001b[0;32mas\u001b[0m \u001b[0mf\u001b[0m\u001b[0;34m:\u001b[0m\u001b[0;34m\u001b[0m\u001b[0;34m\u001b[0m\u001b[0m\n\u001b[0m\u001b[1;32m    423\u001b[0m             \u001b[0mimg\u001b[0m \u001b[0;34m=\u001b[0m \u001b[0mpil_image\u001b[0m\u001b[0;34m.\u001b[0m\u001b[0mopen\u001b[0m\u001b[0;34m(\u001b[0m\u001b[0mio\u001b[0m\u001b[0;34m.\u001b[0m\u001b[0mBytesIO\u001b[0m\u001b[0;34m(\u001b[0m\u001b[0mf\u001b[0m\u001b[0;34m.\u001b[0m\u001b[0mread\u001b[0m\u001b[0;34m(\u001b[0m\u001b[0;34m)\u001b[0m\u001b[0;34m)\u001b[0m\u001b[0;34m)\u001b[0m\u001b[0;34m\u001b[0m\u001b[0;34m\u001b[0m\u001b[0m\n\u001b[1;32m    424\u001b[0m     \u001b[0;32melse\u001b[0m\u001b[0;34m:\u001b[0m\u001b[0;34m\u001b[0m\u001b[0;34m\u001b[0m\u001b[0m\n",
            "\u001b[0;31mFileNotFoundError\u001b[0m: [Errno 2] No such file or directory: '/content/F.jpg'"
          ]
        }
      ]
    }
  ]
}